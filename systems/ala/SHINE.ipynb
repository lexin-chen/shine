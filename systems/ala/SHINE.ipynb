{
 "cells": [
  {
   "cell_type": "markdown",
   "metadata": {},
   "source": [
    "# SHINE\n",
    "\n",
    "## Overview\n",
    "Sampling Hierarchical Intrinsic N-ary Ensembles (SHINE) is a hierarchical clustering tool for pathway analysis. This can be particularly useful if you want to identical the dominant pathway(s) of your enhanced sampling simulations."
   ]
  },
  {
   "cell_type": "markdown",
   "metadata": {},
   "source": [
    "## Tutorial\n",
    "The following tutorial will guide you through the process of determining the dominant pathways of a biomolecule using the SHINE algorithm. This tutorial assumes you have already ran some enhanced sampling simulations and have multiple files (one for each pathway in the ensemble) with the same format. "
   ]
  },
  {
   "cell_type": "code",
   "execution_count": null,
   "metadata": {},
   "outputs": [
    {
     "name": "stdout",
     "output_type": "stream",
     "text": [
      "Requirement already satisfied: mdance in c:\\users\\le.chen\\appdata\\local\\packages\\pythonsoftwarefoundation.python.3.10_qbz5n2kfra8p0\\localcache\\local-packages\\python310\\site-packages (0.3.3)\n",
      "Requirement already satisfied: numpy>=1.20.0 in c:\\users\\le.chen\\appdata\\local\\packages\\pythonsoftwarefoundation.python.3.10_qbz5n2kfra8p0\\localcache\\local-packages\\python310\\site-packages (from mdance) (1.23.5)\n",
      "Requirement already satisfied: scikit-learn>=0.24.0 in c:\\users\\le.chen\\appdata\\local\\packages\\pythonsoftwarefoundation.python.3.10_qbz5n2kfra8p0\\localcache\\local-packages\\python310\\site-packages (from mdance) (1.2.0)\n",
      "Requirement already satisfied: MDAnalysis>=2.0.0 in c:\\users\\le.chen\\appdata\\local\\packages\\pythonsoftwarefoundation.python.3.10_qbz5n2kfra8p0\\localcache\\local-packages\\python310\\site-packages (from mdance) (2.6.0)\n",
      "Requirement already satisfied: shapeGMMTorch>=1.0.0 in c:\\users\\le.chen\\appdata\\local\\packages\\pythonsoftwarefoundation.python.3.10_qbz5n2kfra8p0\\localcache\\local-packages\\python310\\site-packages (from mdance) (1.5.1)\n",
      "Requirement already satisfied: torch>=2.2.2 in c:\\users\\le.chen\\appdata\\local\\packages\\pythonsoftwarefoundation.python.3.10_qbz5n2kfra8p0\\localcache\\local-packages\\python310\\site-packages (from mdance) (2.4.1)\n",
      "Requirement already satisfied: joblib>=0.12 in c:\\users\\le.chen\\appdata\\local\\packages\\pythonsoftwarefoundation.python.3.10_qbz5n2kfra8p0\\localcache\\local-packages\\python310\\site-packages (from MDAnalysis>=2.0.0->mdance) (1.2.0)\n",
      "Requirement already satisfied: threadpoolctl in c:\\users\\le.chen\\appdata\\local\\packages\\pythonsoftwarefoundation.python.3.10_qbz5n2kfra8p0\\localcache\\local-packages\\python310\\site-packages (from MDAnalysis>=2.0.0->mdance) (3.1.0)\n",
      "Requirement already satisfied: tqdm>=4.43.0 in c:\\users\\le.chen\\appdata\\local\\packages\\pythonsoftwarefoundation.python.3.10_qbz5n2kfra8p0\\localcache\\local-packages\\python310\\site-packages (from MDAnalysis>=2.0.0->mdance) (4.65.0)\n",
      "Requirement already satisfied: fasteners in c:\\users\\le.chen\\appdata\\local\\packages\\pythonsoftwarefoundation.python.3.10_qbz5n2kfra8p0\\localcache\\local-packages\\python310\\site-packages (from MDAnalysis>=2.0.0->mdance) (0.18)\n",
      "Requirement already satisfied: networkx>=2.0 in c:\\users\\le.chen\\appdata\\local\\packages\\pythonsoftwarefoundation.python.3.10_qbz5n2kfra8p0\\localcache\\local-packages\\python310\\site-packages (from MDAnalysis>=2.0.0->mdance) (3.1)\n",
      "Requirement already satisfied: GridDataFormats>=0.4.0 in c:\\users\\le.chen\\appdata\\local\\packages\\pythonsoftwarefoundation.python.3.10_qbz5n2kfra8p0\\localcache\\local-packages\\python310\\site-packages (from MDAnalysis>=2.0.0->mdance) (1.0.1)\n",
      "Requirement already satisfied: scipy>=1.5.0 in c:\\users\\le.chen\\appdata\\local\\packages\\pythonsoftwarefoundation.python.3.10_qbz5n2kfra8p0\\localcache\\local-packages\\python310\\site-packages (from MDAnalysis>=2.0.0->mdance) (1.9.3)\n",
      "Requirement already satisfied: matplotlib>=1.5.1 in c:\\users\\le.chen\\appdata\\local\\packages\\pythonsoftwarefoundation.python.3.10_qbz5n2kfra8p0\\localcache\\local-packages\\python310\\site-packages (from MDAnalysis>=2.0.0->mdance) (3.6.2)\n",
      "Requirement already satisfied: packaging in c:\\users\\le.chen\\appdata\\local\\packages\\pythonsoftwarefoundation.python.3.10_qbz5n2kfra8p0\\localcache\\local-packages\\python310\\site-packages (from MDAnalysis>=2.0.0->mdance) (22.0)\n",
      "Requirement already satisfied: biopython>=1.80 in c:\\users\\le.chen\\appdata\\local\\packages\\pythonsoftwarefoundation.python.3.10_qbz5n2kfra8p0\\localcache\\local-packages\\python310\\site-packages (from MDAnalysis>=2.0.0->mdance) (1.81)\n",
      "Requirement already satisfied: mmtf-python>=1.0.0 in c:\\users\\le.chen\\appdata\\local\\packages\\pythonsoftwarefoundation.python.3.10_qbz5n2kfra8p0\\localcache\\local-packages\\python310\\site-packages (from MDAnalysis>=2.0.0->mdance) (1.1.3)\n",
      "Requirement already satisfied: jinja2 in c:\\users\\le.chen\\appdata\\local\\packages\\pythonsoftwarefoundation.python.3.10_qbz5n2kfra8p0\\localcache\\local-packages\\python310\\site-packages (from torch>=2.2.2->mdance) (3.1.4)\n",
      "Requirement already satisfied: fsspec in c:\\users\\le.chen\\appdata\\local\\packages\\pythonsoftwarefoundation.python.3.10_qbz5n2kfra8p0\\localcache\\local-packages\\python310\\site-packages (from torch>=2.2.2->mdance) (2024.9.0)\n",
      "Requirement already satisfied: filelock in c:\\users\\le.chen\\appdata\\local\\packages\\pythonsoftwarefoundation.python.3.10_qbz5n2kfra8p0\\localcache\\local-packages\\python310\\site-packages (from torch>=2.2.2->mdance) (3.16.1)\n",
      "Requirement already satisfied: sympy in c:\\users\\le.chen\\appdata\\local\\packages\\pythonsoftwarefoundation.python.3.10_qbz5n2kfra8p0\\localcache\\local-packages\\python310\\site-packages (from torch>=2.2.2->mdance) (1.13.3)\n",
      "Requirement already satisfied: typing-extensions>=4.8.0 in c:\\users\\le.chen\\appdata\\local\\packages\\pythonsoftwarefoundation.python.3.10_qbz5n2kfra8p0\\localcache\\local-packages\\python310\\site-packages (from torch>=2.2.2->mdance) (4.12.2)\n",
      "Requirement already satisfied: mrcfile in c:\\users\\le.chen\\appdata\\local\\packages\\pythonsoftwarefoundation.python.3.10_qbz5n2kfra8p0\\localcache\\local-packages\\python310\\site-packages (from GridDataFormats>=0.4.0->MDAnalysis>=2.0.0->mdance) (1.4.3)\n",
      "Requirement already satisfied: pillow>=6.2.0 in c:\\users\\le.chen\\appdata\\local\\packages\\pythonsoftwarefoundation.python.3.10_qbz5n2kfra8p0\\localcache\\local-packages\\python310\\site-packages (from matplotlib>=1.5.1->MDAnalysis>=2.0.0->mdance) (9.3.0)\n",
      "Requirement already satisfied: cycler>=0.10 in c:\\users\\le.chen\\appdata\\local\\packages\\pythonsoftwarefoundation.python.3.10_qbz5n2kfra8p0\\localcache\\local-packages\\python310\\site-packages (from matplotlib>=1.5.1->MDAnalysis>=2.0.0->mdance) (0.11.0)\n",
      "Requirement already satisfied: pyparsing>=2.2.1 in c:\\users\\le.chen\\appdata\\local\\packages\\pythonsoftwarefoundation.python.3.10_qbz5n2kfra8p0\\localcache\\local-packages\\python310\\site-packages (from matplotlib>=1.5.1->MDAnalysis>=2.0.0->mdance) (3.0.9)\n",
      "Requirement already satisfied: fonttools>=4.22.0 in c:\\users\\le.chen\\appdata\\local\\packages\\pythonsoftwarefoundation.python.3.10_qbz5n2kfra8p0\\localcache\\local-packages\\python310\\site-packages (from matplotlib>=1.5.1->MDAnalysis>=2.0.0->mdance) (4.38.0)\n",
      "Requirement already satisfied: contourpy>=1.0.1 in c:\\users\\le.chen\\appdata\\local\\packages\\pythonsoftwarefoundation.python.3.10_qbz5n2kfra8p0\\localcache\\local-packages\\python310\\site-packages (from matplotlib>=1.5.1->MDAnalysis>=2.0.0->mdance) (1.0.6)\n",
      "Requirement already satisfied: python-dateutil>=2.7 in c:\\users\\le.chen\\appdata\\local\\packages\\pythonsoftwarefoundation.python.3.10_qbz5n2kfra8p0\\localcache\\local-packages\\python310\\site-packages (from matplotlib>=1.5.1->MDAnalysis>=2.0.0->mdance) (2.8.2)\n",
      "Requirement already satisfied: kiwisolver>=1.0.1 in c:\\users\\le.chen\\appdata\\local\\packages\\pythonsoftwarefoundation.python.3.10_qbz5n2kfra8p0\\localcache\\local-packages\\python310\\site-packages (from matplotlib>=1.5.1->MDAnalysis>=2.0.0->mdance) (1.4.4)\n",
      "Requirement already satisfied: msgpack>=1.0.0 in c:\\users\\le.chen\\appdata\\local\\packages\\pythonsoftwarefoundation.python.3.10_qbz5n2kfra8p0\\localcache\\local-packages\\python310\\site-packages (from mmtf-python>=1.0.0->MDAnalysis>=2.0.0->mdance) (1.0.5)\n",
      "Requirement already satisfied: colorama in c:\\users\\le.chen\\appdata\\local\\packages\\pythonsoftwarefoundation.python.3.10_qbz5n2kfra8p0\\localcache\\local-packages\\python310\\site-packages (from tqdm>=4.43.0->MDAnalysis>=2.0.0->mdance) (0.4.6)\n",
      "Requirement already satisfied: MarkupSafe>=2.0 in c:\\users\\le.chen\\appdata\\local\\packages\\pythonsoftwarefoundation.python.3.10_qbz5n2kfra8p0\\localcache\\local-packages\\python310\\site-packages (from jinja2->torch>=2.2.2->mdance) (2.1.5)\n",
      "Requirement already satisfied: mpmath<1.4,>=1.1.0 in c:\\users\\le.chen\\appdata\\local\\packages\\pythonsoftwarefoundation.python.3.10_qbz5n2kfra8p0\\localcache\\local-packages\\python310\\site-packages (from sympy->torch>=2.2.2->mdance) (1.3.0)\n",
      "Requirement already satisfied: six>=1.5 in c:\\users\\le.chen\\appdata\\local\\packages\\pythonsoftwarefoundation.python.3.10_qbz5n2kfra8p0\\localcache\\local-packages\\python310\\site-packages (from python-dateutil>=2.7->matplotlib>=1.5.1->MDAnalysis>=2.0.0->mdance) (1.16.0)\n"
     ]
    },
    {
     "name": "stderr",
     "output_type": "stream",
     "text": [
      "\n",
      "[notice] A new release of pip is available: 23.0.1 -> 25.0.1\n",
      "[notice] To update, run: C:\\Users\\le.chen\\AppData\\Local\\Microsoft\\WindowsApps\\PythonSoftwareFoundation.Python.3.10_qbz5n2kfra8p0\\python.exe -m pip install --upgrade pip\n"
     ]
    }
   ],
   "source": [
    "!pip install mdance"
   ]
  },
  {
   "cell_type": "markdown",
   "metadata": {},
   "source": [
    "## Step 1: Dependencies\n",
    "First, we need to install the necessary dependencies. "
   ]
  },
  {
   "cell_type": "code",
   "execution_count": 3,
   "metadata": {},
   "outputs": [
    {
     "name": "stderr",
     "output_type": "stream",
     "text": [
      "/blue/rmirandaquintana/le.chen/comparisons/clustering/alignedClustering/.venv/lib64/python3.11/site-packages/tqdm/auto.py:21: TqdmWarning: IProgress not found. Please update jupyter and ipywidgets. See https://ipywidgets.readthedocs.io/en/stable/user_install.html\n",
      "  from .autonotebook import tqdm as notebook_tqdm\n"
     ]
    }
   ],
   "source": [
    "import glob\n",
    "import re\n",
    "\n",
    "import matplotlib.pyplot as plt\n",
    "import numpy as np\n",
    "\n",
    "from mdance.cluster.shine import Shine\n",
    "from mdance.inputs.preprocess import gen_traj_numpy"
   ]
  },
  {
   "cell_type": "markdown",
   "metadata": {},
   "source": [
    "## Step 2: Data Preparation\n",
    "Next, we need to prepare the data for the SHINE algorithm. Make sure you have all the trajectory files in the same directory and that they are numbered sequentially. like `pathway_1.dcd`, `pathway_2.dcd`, `pathway_3.dcd`, etc."
   ]
  },
  {
   "cell_type": "code",
   "execution_count": 12,
   "metadata": {},
   "outputs": [],
   "source": [
    "input_top = 'adk4ake.psf'\n",
    "atomSelection = 'name CA'\n",
    "traj_paths = 'dims*.dcd'"
   ]
  },
  {
   "cell_type": "code",
   "execution_count": 18,
   "metadata": {},
   "outputs": [
    {
     "name": "stdout",
     "output_type": "stream",
     "text": [
      "['dims0001_fit-core.dcd', 'dims0002_fit-core.dcd', 'dims0003_fit-core.dcd', 'dims0004_fit-core.dcd', 'dims0005_fit-core.dcd']\n",
      "Number of atoms in trajectory: 3341\n",
      "Number of frames in trajectory: 102\n",
      "Number of atoms in selection: 214\n",
      "(102, 642)\n",
      "Number of atoms in trajectory: 3341\n",
      "Number of frames in trajectory: 92\n",
      "Number of atoms in selection: 214\n",
      "(92, 642)\n",
      "Number of atoms in trajectory: 3341\n",
      "Number of frames in trajectory: 95\n",
      "Number of atoms in selection: 214\n"
     ]
    },
    {
     "name": "stderr",
     "output_type": "stream",
     "text": [
      "/blue/rmirandaquintana/le.chen/comparisons/clustering/alignedClustering/.venv/lib64/python3.11/site-packages/MDAnalysis/coordinates/DCD.py:165: DeprecationWarning: DCDReader currently makes independent timesteps by copying self.ts while other readers update self.ts inplace. This behavior will be changed in 3.0 to be the same as other readers. Read more at https://github.com/MDAnalysis/mdanalysis/issues/3889 to learn if this change in behavior might affect you.\n",
      "  warnings.warn(\"DCDReader currently makes independent timesteps\"\n"
     ]
    },
    {
     "name": "stdout",
     "output_type": "stream",
     "text": [
      "(95, 642)\n",
      "Number of atoms in trajectory: 3341\n",
      "Number of frames in trajectory: 103\n",
      "Number of atoms in selection: 214\n",
      "(103, 642)\n",
      "Number of atoms in trajectory: 3341\n",
      "Number of frames in trajectory: 97\n",
      "Number of atoms in selection: 214\n",
      "(97, 642)\n"
     ]
    }
   ],
   "source": [
    "def sort_key(filepath):\n",
    "    match = re.search(r'(\\d+)', filepath)\n",
    "    if match:\n",
    "        return int(match.group(1))\n",
    "    else:\n",
    "        return filepath\n",
    "\n",
    "input_trajs = sorted(glob.glob(traj_paths), key=sort_key)\n",
    "print(input_trajs)\n",
    "\n",
    "for i, input_traj in enumerate(input_trajs):\n",
    "    traj_numpy = gen_traj_numpy(input_top, input_traj, atomSelection)\n",
    "    np.save(f'pathway_{i}.npy', traj_numpy)\n",
    "    print(traj_numpy.shape)"
   ]
  },
  {
   "cell_type": "markdown",
   "metadata": {},
   "source": [
    "## Step 3: Running SHINE\n",
    "Now we can run the SHINE algorithm. The following command will run the SHINE algorithm on the data in the current directory."
   ]
  },
  {
   "cell_type": "code",
   "execution_count": null,
   "metadata": {},
   "outputs": [],
   "source": [
    "# System Parameters\n",
    "file_pattern = 'data/*.npy'                                 # Follows data/trajectory_*.csv pattern where * is the trajectory number\n",
    "metric = 'MSD'                                              # Metric to be used for clustering\n",
    "N_atoms = 1                                                 # Number of atoms in the system\n",
    "\n",
    "# SHINE Parameters\n",
    "sampling = 'diversity'                                      # Sampling scheme {'diversity', 'quota'}\n",
    "frac = 0.5                                                  # Fraction of frames to be sampled\n",
    "merge_scheme = 'intra'                                      # Merge scheme {'intra', 'semi_sum', 'min'}"
   ]
  },
  {
   "cell_type": "code",
   "execution_count": null,
   "metadata": {},
   "outputs": [],
   "source": [
    "frames_all = []\n",
    "\n",
    "# Change this to read the data from different file patterns.\n",
    "for file in glob.glob(file_pattern):\n",
    "    traj = file.split('_')[-1].split('.')[0]\n",
    "    frame = np.load(file)\n",
    "    frames_all.append((traj, frame))\n",
    "\n",
    "# Run SHINE\n",
    "mod = Shine(frames_all, 'MSD', N_atoms=1 , t=2, criterion='maxclust', \n",
    "            link='ward', merge_scheme=merge_scheme, \n",
    "            sampling='diversity', frac=frac)\n",
    "link, clusters = mod.run()"
   ]
  },
  {
   "cell_type": "markdown",
   "metadata": {},
   "source": [
    "Step 4: Visualizing the Results\n",
    "Finally, we can visualize the results of the SHINE algorithm. The SHINE algorithm will output a dendrogram that shows the hierarchical clustering of the pathways. You can use this dendrogram to identify the dominant pathways in the ensemble."
   ]
  },
  {
   "cell_type": "code",
   "execution_count": 7,
   "metadata": {},
   "outputs": [
    {
     "data": {
      "image/png": "[encoded data removed]",
      "text/plain": [
       "<Figure size 640x480 with 1 Axes>"
      ]
     },
     "metadata": {},
     "output_type": "display_data"
    }
   ],
   "source": [
    "# Plot the dendrogram\n",
    "ax = mod.plot()\n",
    "plt.show()"
   ]
  }
 ],
 "metadata": {
  "kernelspec": {
   "display_name": ".venv",
   "language": "python",
   "name": "python3"
  },
  "language_info": {
   "codemirror_mode": {
    "name": "ipython",
    "version": 3
   },
   "file_extension": ".py",
   "mimetype": "text/x-python",
   "name": "python",
   "nbconvert_exporter": "python",
   "pygments_lexer": "ipython3",
   "version": "3.11.11"
  }
 },
 "nbformat": 4,
 "nbformat_minor": 2
}
